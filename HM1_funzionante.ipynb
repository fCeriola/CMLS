{
 "cells": [
  {
   "cell_type": "markdown",
   "id": "caroline-dress",
   "metadata": {},
   "source": [
    "# ASSIGNMENT 1 - Speech recognition\n",
    "\n",
    "what I will do:\n",
    "* load all the audio files\n",
    "* extract from the filenames the digit labels (to use as GT)\n",
    "* compute all the MFCCs (to use as audio feature)\n",
    "* split the data into train and test sets\n",
    "* use a Random Forest algorithm\n",
    "* test the model\n",
    "* compute a confusion matrix"
   ]
  },
  {
   "cell_type": "markdown",
   "id": "forbidden-netscape",
   "metadata": {},
   "source": [
    "## PER QUANTO RIGUARDA IL NUMERO DI MFCC **************************\n",
    "\n",
    "a parte il cambiare il valore alla variabile n_mfcc che creo nella cella [3], bisogna modificare la cella [11] in questo punto:\n",
    "\n",
    "(qua l'esempio è con 20 MFCCs)\n",
    "\n",
    "\n",
    " X = df_same_digit.iloc[:, 0:20]          \n",
    " y = df_same_digit.iloc[:, 20]            "
   ]
  },
  {
   "cell_type": "code",
   "execution_count": null,
   "id": "needed-cincinnati",
   "metadata": {},
   "outputs": [],
   "source": []
  },
  {
   "cell_type": "code",
   "execution_count": 1,
   "id": "higher-responsibility",
   "metadata": {},
   "outputs": [],
   "source": [
    "import numpy as np\n",
    "import pandas as pd\n",
    "import librosa.display\n",
    "import librosa\n",
    "import IPython.display as ipd\n",
    "import matplotlib.pyplot as plt\n",
    "import os\n",
    "from sklearn.model_selection import train_test_split\n",
    "from sklearn.ensemble import RandomForestClassifier \n",
    "import tqdm"
   ]
  },
  {
   "cell_type": "markdown",
   "id": "restricted-health",
   "metadata": {},
   "source": [
    "## Create the dictionary\n",
    "\n",
    "I create a dictionary that I will use both to create the Pandas data frame (which I will use only to split train and test sets) and to store the MFCCs values before converting them to matrices."
   ]
  },
  {
   "cell_type": "code",
   "execution_count": 18,
   "id": "biological-series",
   "metadata": {},
   "outputs": [],
   "source": [
    "data = {'mfcc':[], 'labels':[], 'speaker':[], 'train_set':[], 'train_target_set':[], 'test_set':[], 'test_target_set':[]}"
   ]
  },
  {
   "cell_type": "markdown",
   "id": "encouraging-communist",
   "metadata": {},
   "source": [
    "## Compute the data\n"
   ]
  },
  {
   "cell_type": "code",
   "execution_count": 3,
   "id": "respected-century",
   "metadata": {},
   "outputs": [],
   "source": [
    "#some preliminary steps:\n",
    "\n",
    "data_path = \"recordings\"  \n",
    "n_mfcc = 20 \n",
    "elements = os.listdir(data_path)  \n",
    "\n",
    "#number_of_elements = len(elements)"
   ]
  },
  {
   "cell_type": "markdown",
   "id": "historical-fraud",
   "metadata": {},
   "source": [
    "### Some notes:\n",
    "\n",
    "* each audio file generates different numbers of samples --> to make our data homogeneous we'll take the mean value of all the MFCCs we're collecting from all samples. This way we get only n_mfcc coefficients for each audio file --> n_mfcc rows vector for each audio file\n",
    "\n",
    "\n",
    "* the MFCCs get stored in the dictionary key \"mfcc\" which is a list of 3000 vectors with n_mfcc rows\n",
    "\n",
    "\n",
    "* I will use tqdm to see how long it takes for the for loop to finish (little less than 1 min)\n",
    "\n",
    "\n",
    "* n_fft : I chose 2048 but it may change. Don't know if it's good."
   ]
  },
  {
   "cell_type": "code",
   "execution_count": 4,
   "id": "trying-timer",
   "metadata": {
    "scrolled": true
   },
   "outputs": [
    {
     "name": "stderr",
     "output_type": "stream",
     "text": [
      "100%|██████████████████████████████████████████████████████████████████████████████| 3000/3000 [00:56<00:00, 53.05it/s]\n"
     ]
    }
   ],
   "source": [
    "#extract the digit labels from each wav file\n",
    "for i, filename in enumerate(tqdm.tqdm(elements)):\n",
    "    file_name_components = filename.split(\"_\")\n",
    "    digit_label = file_name_components[0]\n",
    "    data[\"labels\"].append(digit_label)\n",
    "    #data[\"speaker\"].append(speaker_name)  #this is not really a necessary data to collect\n",
    "        \n",
    "    #load the audio files\n",
    "    audio, sr = librosa.load(os.path.join(data_path, filename))\n",
    "        \n",
    "    #compute the MFCCs for each audio file\n",
    "    mfcc = librosa.feature.mfcc(audio, n_fft = 2048, hop_length = 512, n_mfcc = n_mfcc)\n",
    "    feature_vector =np.mean(mfcc, axis = 1)\n",
    "    \n",
    "    #features_matrix[i,:] = feature_vector\n",
    "    data[\"mfcc\"].append(feature_vector)\n",
    "    "
   ]
  },
  {
   "cell_type": "markdown",
   "id": "hidden-theta",
   "metadata": {},
   "source": [
    "Next there are some checks that I did to see if everything was working properly..."
   ]
  },
  {
   "cell_type": "code",
   "execution_count": 5,
   "id": "invisible-threat",
   "metadata": {},
   "outputs": [
    {
     "data": {
      "text/plain": [
       "3000"
      ]
     },
     "execution_count": 5,
     "metadata": {},
     "output_type": "execute_result"
    }
   ],
   "source": [
    "len(data[\"mfcc\"])   #should be 3000"
   ]
  },
  {
   "cell_type": "code",
   "execution_count": 7,
   "id": "criminal-break",
   "metadata": {},
   "outputs": [
    {
     "data": {
      "text/plain": [
       "20"
      ]
     },
     "execution_count": 7,
     "metadata": {},
     "output_type": "execute_result"
    }
   ],
   "source": [
    "data[\"mfcc\"][0].size    #should be equal to n_mfcc chosen"
   ]
  },
  {
   "cell_type": "markdown",
   "id": "impressive-capability",
   "metadata": {},
   "source": [
    "### Listen to the last audio loaded"
   ]
  },
  {
   "cell_type": "code",
   "execution_count": 8,
   "id": "documentary-fortune",
   "metadata": {},
   "outputs": [
    {
     "data": {
      "text/html": [
       "\n",
       "                <audio  controls=\"controls\" >\n",
       "                    <source src=\"data:audio/wav;base64,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\" type=\"audio/wav\" />\n",
       "                    Your browser does not support the audio element.\n",
       "                </audio>\n",
       "              "
      ],
      "text/plain": [
       "<IPython.lib.display.Audio object>"
      ]
     },
     "execution_count": 8,
     "metadata": {},
     "output_type": "execute_result"
    }
   ],
   "source": [
    "ipd.Audio(audio, rate=sr)"
   ]
  },
  {
   "cell_type": "markdown",
   "id": "italian-chemical",
   "metadata": {},
   "source": [
    "### Visualize the last MFCCs computed (no mean value yet)"
   ]
  },
  {
   "cell_type": "code",
   "execution_count": 9,
   "id": "allied-tomato",
   "metadata": {},
   "outputs": [
    {
     "data": {
      "image/png": "[encoded data removed]",
      "text/plain": [
       "<Figure size 432x288 with 1 Axes>"
      ]
     },
     "metadata": {
      "needs_background": "light"
     },
     "output_type": "display_data"
    }
   ],
   "source": [
    "librosa.display.specshow(mfcc,\n",
    "                        x_axis = 'time',\n",
    "                        sr=sr)\n",
    "\n",
    "plt.xlabel('Time')\n",
    "plt.ylabel('MFCCs')\n",
    "plt.show() "
   ]
  },
  {
   "cell_type": "markdown",
   "id": "sustained-marijuana",
   "metadata": {},
   "source": [
    "## Creating the Pandas Data Frame\n",
    "\n",
    "I create this data frame for the sole purpose of splitting the data into train and test sets in a non-biased way FOR EACH class of digits. The train_test_split method from scikit learn will provide the randomness and it doesn't require data frames per se... BUT I need the data frame to apply the method on each different class of digits!\n",
    "\n",
    "The last column has the target values."
   ]
  },
  {
   "cell_type": "code",
   "execution_count": 10,
   "id": "adopted-employer",
   "metadata": {},
   "outputs": [
    {
     "data": {
      "text/html": [
       "<div>\n",
       "<style scoped>\n",
       "    .dataframe tbody tr th:only-of-type {\n",
       "        vertical-align: middle;\n",
       "    }\n",
       "\n",
       "    .dataframe tbody tr th {\n",
       "        vertical-align: top;\n",
       "    }\n",
       "\n",
       "    .dataframe thead th {\n",
       "        text-align: right;\n",
       "    }\n",
       "</style>\n",
       "<table border=\"1\" class=\"dataframe\">\n",
       "  <thead>\n",
       "    <tr style=\"text-align: right;\">\n",
       "      <th></th>\n",
       "      <th>0</th>\n",
       "      <th>1</th>\n",
       "      <th>2</th>\n",
       "      <th>3</th>\n",
       "      <th>4</th>\n",
       "      <th>5</th>\n",
       "      <th>6</th>\n",
       "      <th>7</th>\n",
       "      <th>8</th>\n",
       "      <th>9</th>\n",
       "      <th>...</th>\n",
       "      <th>11</th>\n",
       "      <th>12</th>\n",
       "      <th>13</th>\n",
       "      <th>14</th>\n",
       "      <th>15</th>\n",
       "      <th>16</th>\n",
       "      <th>17</th>\n",
       "      <th>18</th>\n",
       "      <th>19</th>\n",
       "      <th>digit_label</th>\n",
       "    </tr>\n",
       "  </thead>\n",
       "  <tbody>\n",
       "    <tr>\n",
       "      <th>0</th>\n",
       "      <td>-315.476044</td>\n",
       "      <td>165.164124</td>\n",
       "      <td>-86.001862</td>\n",
       "      <td>49.906296</td>\n",
       "      <td>49.994198</td>\n",
       "      <td>-56.597046</td>\n",
       "      <td>-12.610107</td>\n",
       "      <td>-16.555233</td>\n",
       "      <td>-53.435623</td>\n",
       "      <td>-10.625828</td>\n",
       "      <td>...</td>\n",
       "      <td>-43.135574</td>\n",
       "      <td>3.244191</td>\n",
       "      <td>-5.556155</td>\n",
       "      <td>-28.044035</td>\n",
       "      <td>-1.858222</td>\n",
       "      <td>-4.968933</td>\n",
       "      <td>-12.910381</td>\n",
       "      <td>-1.180161</td>\n",
       "      <td>-11.717236</td>\n",
       "      <td>0</td>\n",
       "    </tr>\n",
       "    <tr>\n",
       "      <th>1</th>\n",
       "      <td>-377.584045</td>\n",
       "      <td>166.679581</td>\n",
       "      <td>-57.934063</td>\n",
       "      <td>23.156776</td>\n",
       "      <td>26.331282</td>\n",
       "      <td>-46.027672</td>\n",
       "      <td>-13.796629</td>\n",
       "      <td>-25.808290</td>\n",
       "      <td>-52.275322</td>\n",
       "      <td>-8.853588</td>\n",
       "      <td>...</td>\n",
       "      <td>-40.183712</td>\n",
       "      <td>-2.011989</td>\n",
       "      <td>-6.429522</td>\n",
       "      <td>-25.596296</td>\n",
       "      <td>-6.817262</td>\n",
       "      <td>-10.267634</td>\n",
       "      <td>-16.110767</td>\n",
       "      <td>-5.768830</td>\n",
       "      <td>-14.243267</td>\n",
       "      <td>0</td>\n",
       "    </tr>\n",
       "    <tr>\n",
       "      <th>2</th>\n",
       "      <td>-422.332245</td>\n",
       "      <td>128.056046</td>\n",
       "      <td>-54.102139</td>\n",
       "      <td>18.466105</td>\n",
       "      <td>26.394096</td>\n",
       "      <td>-33.143406</td>\n",
       "      <td>-13.631346</td>\n",
       "      <td>-19.045700</td>\n",
       "      <td>-32.075581</td>\n",
       "      <td>-5.010424</td>\n",
       "      <td>...</td>\n",
       "      <td>-34.712395</td>\n",
       "      <td>-1.574481</td>\n",
       "      <td>-11.154457</td>\n",
       "      <td>-23.685780</td>\n",
       "      <td>-0.622794</td>\n",
       "      <td>-4.097484</td>\n",
       "      <td>-10.547661</td>\n",
       "      <td>-1.414897</td>\n",
       "      <td>-11.413449</td>\n",
       "      <td>0</td>\n",
       "    </tr>\n",
       "    <tr>\n",
       "      <th>3</th>\n",
       "      <td>-388.007782</td>\n",
       "      <td>166.976837</td>\n",
       "      <td>-79.601295</td>\n",
       "      <td>25.804943</td>\n",
       "      <td>32.820518</td>\n",
       "      <td>-50.730679</td>\n",
       "      <td>-10.477678</td>\n",
       "      <td>-17.126139</td>\n",
       "      <td>-45.165600</td>\n",
       "      <td>-4.768176</td>\n",
       "      <td>...</td>\n",
       "      <td>-41.363216</td>\n",
       "      <td>-0.266976</td>\n",
       "      <td>-11.913630</td>\n",
       "      <td>-26.663418</td>\n",
       "      <td>1.560118</td>\n",
       "      <td>-5.737462</td>\n",
       "      <td>-13.478531</td>\n",
       "      <td>-2.150522</td>\n",
       "      <td>-15.060717</td>\n",
       "      <td>0</td>\n",
       "    </tr>\n",
       "    <tr>\n",
       "      <th>4</th>\n",
       "      <td>-387.697266</td>\n",
       "      <td>170.395508</td>\n",
       "      <td>-77.295441</td>\n",
       "      <td>23.309792</td>\n",
       "      <td>36.560810</td>\n",
       "      <td>-46.060402</td>\n",
       "      <td>-12.925955</td>\n",
       "      <td>-17.795551</td>\n",
       "      <td>-43.572300</td>\n",
       "      <td>-4.862560</td>\n",
       "      <td>...</td>\n",
       "      <td>-41.409332</td>\n",
       "      <td>-1.230233</td>\n",
       "      <td>-10.544313</td>\n",
       "      <td>-27.991896</td>\n",
       "      <td>-1.892762</td>\n",
       "      <td>-7.834771</td>\n",
       "      <td>-16.043837</td>\n",
       "      <td>-3.429716</td>\n",
       "      <td>-16.882401</td>\n",
       "      <td>0</td>\n",
       "    </tr>\n",
       "  </tbody>\n",
       "</table>\n",
       "<p>5 rows × 21 columns</p>\n",
       "</div>"
      ],
      "text/plain": [
       "            0           1          2          3          4          5  \\\n",
       "0 -315.476044  165.164124 -86.001862  49.906296  49.994198 -56.597046   \n",
       "1 -377.584045  166.679581 -57.934063  23.156776  26.331282 -46.027672   \n",
       "2 -422.332245  128.056046 -54.102139  18.466105  26.394096 -33.143406   \n",
       "3 -388.007782  166.976837 -79.601295  25.804943  32.820518 -50.730679   \n",
       "4 -387.697266  170.395508 -77.295441  23.309792  36.560810 -46.060402   \n",
       "\n",
       "           6          7          8          9  ...         11        12  \\\n",
       "0 -12.610107 -16.555233 -53.435623 -10.625828  ... -43.135574  3.244191   \n",
       "1 -13.796629 -25.808290 -52.275322  -8.853588  ... -40.183712 -2.011989   \n",
       "2 -13.631346 -19.045700 -32.075581  -5.010424  ... -34.712395 -1.574481   \n",
       "3 -10.477678 -17.126139 -45.165600  -4.768176  ... -41.363216 -0.266976   \n",
       "4 -12.925955 -17.795551 -43.572300  -4.862560  ... -41.409332 -1.230233   \n",
       "\n",
       "          13         14        15         16         17        18         19  \\\n",
       "0  -5.556155 -28.044035 -1.858222  -4.968933 -12.910381 -1.180161 -11.717236   \n",
       "1  -6.429522 -25.596296 -6.817262 -10.267634 -16.110767 -5.768830 -14.243267   \n",
       "2 -11.154457 -23.685780 -0.622794  -4.097484 -10.547661 -1.414897 -11.413449   \n",
       "3 -11.913630 -26.663418  1.560118  -5.737462 -13.478531 -2.150522 -15.060717   \n",
       "4 -10.544313 -27.991896 -1.892762  -7.834771 -16.043837 -3.429716 -16.882401   \n",
       "\n",
       "   digit_label  \n",
       "0            0  \n",
       "1            0  \n",
       "2            0  \n",
       "3            0  \n",
       "4            0  \n",
       "\n",
       "[5 rows x 21 columns]"
      ]
     },
     "execution_count": 10,
     "metadata": {},
     "output_type": "execute_result"
    }
   ],
   "source": [
    "df = pd.DataFrame(data[\"mfcc\"])   \n",
    "df['digit_label'] = data[\"labels\"]\n",
    "#df['speaker_name']=data[\"speaker\"]  #not needed\n",
    "\n",
    "# call df below if you want to visualize the data frame\n",
    "df.head()"
   ]
  },
  {
   "cell_type": "markdown",
   "id": "relative-shoulder",
   "metadata": {},
   "source": [
    "## Split test and training sets\n",
    "\n",
    "NOTE : This is meant to work with whatever group of digits (may be 0-3, 4-7, 0-9...).\n",
    "\n",
    "* In the first part of the for loop I pick iteratively only one class of digits (first the 0s, then the 1s, the 2s...) and divide the data frame into data and targets.\n",
    "\n",
    "* In the second part of the loop I actually split the data and the targets into train and test so that the test data will be around 20% of the total (see the test_size argument)\n",
    "\n",
    "* In the third part I return to numpy arrays, so that I can merge together the train and test data I got from each different digit class (because the classifier works with 2d matrices).\n",
    "\n",
    "This is very fast for loop."
   ]
  },
  {
   "cell_type": "code",
   "execution_count": 11,
   "id": "stupid-vancouver",
   "metadata": {
    "scrolled": false
   },
   "outputs": [
    {
     "name": "stderr",
     "output_type": "stream",
     "text": [
      "100%|█████████████████████████████████████████████████████████████████████████████████| 10/10 [00:00<00:00, 250.67it/s]\n"
     ]
    }
   ],
   "source": [
    "digits=np.unique(data[\"labels\"])  #understand what digits we are working with\n",
    "\n",
    "for i in tqdm.tqdm(digits):\n",
    "    df_same_digit = df[df.digit_label == i]\n",
    "    X = df_same_digit.iloc[:, 0:20]          #taking the first 20 columns of the data frame (which are the MFCCs)\n",
    "    y = df_same_digit.iloc[:, 20]            #taking the last column of the data frame (which is the target)\n",
    "    \n",
    "    #splitting \n",
    "    X_train, X_test, y_train, y_test = train_test_split(X,y, random_state=0, test_size=0.2)\n",
    "    \n",
    "    \n",
    "    X_train_np = (X_train).to_numpy()    #using Pandas' function to transform data frame into numpy array\n",
    "    data[\"train_set\"].append(X_train_np)\n",
    "    TRAIN = np.concatenate(data[\"train_set\"], axis=0)\n",
    "    \n",
    "    X_test_np = (X_test).to_numpy()   \n",
    "    data[\"test_set\"].append(X_test_np)\n",
    "    TEST = np.concatenate(data[\"test_set\"], axis=0)\n",
    "    \n",
    "    y_train_np = (y_train).to_numpy()    \n",
    "    data[\"train_target_set\"].append(y_train_np)\n",
    "    TRAIN_TARGET = np.concatenate(data[\"train_target_set\"], axis=0)   \n",
    "    \n",
    "    y_test_np = (y_test).to_numpy()    \n",
    "    data[\"test_target_set\"].append(y_test_np)\n",
    "    TEST_TARGET = np.concatenate(data[\"test_target_set\"], axis=0)"
   ]
  },
  {
   "cell_type": "markdown",
   "id": "chronic-negotiation",
   "metadata": {},
   "source": [
    "Here I run some codes to check how my data now looks.\n",
    "\n",
    "First I take a look at the results I get immediately after the splitting. You can notice that the splitting produced pandas data frames in which is very easy to see how the splitting algorithm worked."
   ]
  },
  {
   "cell_type": "code",
   "execution_count": null,
   "id": "royal-forestry",
   "metadata": {},
   "outputs": [],
   "source": [
    "#print(X_train)  #this is just for the digit \"2\"\n",
    "#print(type(X_train))"
   ]
  },
  {
   "cell_type": "markdown",
   "id": "systematic-product",
   "metadata": {},
   "source": [
    "Once you transform those back to numpy arrays you can get this:"
   ]
  },
  {
   "cell_type": "code",
   "execution_count": null,
   "id": "younger-release",
   "metadata": {},
   "outputs": [],
   "source": [
    "# print(X_train_np)          #notice that it's the same as above, obviously\n",
    "# print((X_train).shape)\n",
    "# print(type(X_train_np))"
   ]
  },
  {
   "cell_type": "markdown",
   "id": "hawaiian-virus",
   "metadata": {},
   "source": [
    "It may be useful to check also the concatenated matrices:"
   ]
  },
  {
   "cell_type": "code",
   "execution_count": null,
   "id": "informal-algebra",
   "metadata": {},
   "outputs": [],
   "source": [
    "#print(TRAIN.shape)\n",
    "# print(type(TRAIN))\n",
    "# print(TRAIN)"
   ]
  },
  {
   "cell_type": "code",
   "execution_count": null,
   "id": "found-heading",
   "metadata": {},
   "outputs": [],
   "source": [
    "#let's take a look at the target\n",
    "#TRAIN_TARGET\n",
    "#print(TRAIN_TARGET)"
   ]
  },
  {
   "cell_type": "code",
   "execution_count": null,
   "id": "canadian-madagascar",
   "metadata": {},
   "outputs": [],
   "source": []
  },
  {
   "cell_type": "markdown",
   "id": "nuclear-jumping",
   "metadata": {},
   "source": [
    "\n",
    "\n",
    "Let's recap and see if everything is ready to be used with the classifier:\n"
   ]
  },
  {
   "cell_type": "code",
   "execution_count": 14,
   "id": "controlling-directory",
   "metadata": {},
   "outputs": [
    {
     "name": "stdout",
     "output_type": "stream",
     "text": [
      "(2400, 20)\n",
      "(2400,)\n",
      "(600, 20)\n",
      "(600,)\n"
     ]
    }
   ],
   "source": [
    "print(TRAIN.shape)\n",
    "print(TRAIN_TARGET.shape)\n",
    "print(TEST.shape)\n",
    "print(TEST_TARGET.shape)\n"
   ]
  },
  {
   "cell_type": "markdown",
   "id": "identified-clearance",
   "metadata": {},
   "source": [
    "## Random Forest Classifier"
   ]
  },
  {
   "cell_type": "code",
   "execution_count": 15,
   "id": "considerable-consumption",
   "metadata": {},
   "outputs": [
    {
     "data": {
      "text/plain": [
       "RandomForestClassifier(n_jobs=2, random_state=0)"
      ]
     },
     "execution_count": 15,
     "metadata": {},
     "output_type": "execute_result"
    }
   ],
   "source": [
    "#create the random forest classifier\n",
    "clf = RandomForestClassifier(n_jobs=2, random_state=0)\n",
    "\n",
    "#training\n",
    "clf.fit(TRAIN, TRAIN_TARGET)"
   ]
  },
  {
   "cell_type": "code",
   "execution_count": 16,
   "id": "chronic-throat",
   "metadata": {},
   "outputs": [],
   "source": [
    "a = clf.predict(TEST)\n",
    "\n",
    "# call the following to actually see the prediction results:\n",
    "#print(a)"
   ]
  },
  {
   "cell_type": "markdown",
   "id": "confirmed-april",
   "metadata": {},
   "source": [
    "To get the confusion matrix I use Pandas function \"crosstab\"."
   ]
  },
  {
   "cell_type": "code",
   "execution_count": 17,
   "id": "surgical-surgery",
   "metadata": {},
   "outputs": [
    {
     "data": {
      "text/html": [
       "<div>\n",
       "<style scoped>\n",
       "    .dataframe tbody tr th:only-of-type {\n",
       "        vertical-align: middle;\n",
       "    }\n",
       "\n",
       "    .dataframe tbody tr th {\n",
       "        vertical-align: top;\n",
       "    }\n",
       "\n",
       "    .dataframe thead th {\n",
       "        text-align: right;\n",
       "    }\n",
       "</style>\n",
       "<table border=\"1\" class=\"dataframe\">\n",
       "  <thead>\n",
       "    <tr style=\"text-align: right;\">\n",
       "      <th>Predicted digits</th>\n",
       "      <th>0</th>\n",
       "      <th>1</th>\n",
       "      <th>2</th>\n",
       "      <th>3</th>\n",
       "      <th>4</th>\n",
       "      <th>5</th>\n",
       "      <th>6</th>\n",
       "      <th>7</th>\n",
       "      <th>8</th>\n",
       "      <th>9</th>\n",
       "    </tr>\n",
       "    <tr>\n",
       "      <th>Actual digits</th>\n",
       "      <th></th>\n",
       "      <th></th>\n",
       "      <th></th>\n",
       "      <th></th>\n",
       "      <th></th>\n",
       "      <th></th>\n",
       "      <th></th>\n",
       "      <th></th>\n",
       "      <th></th>\n",
       "      <th></th>\n",
       "    </tr>\n",
       "  </thead>\n",
       "  <tbody>\n",
       "    <tr>\n",
       "      <th>0</th>\n",
       "      <td>57</td>\n",
       "      <td>1</td>\n",
       "      <td>0</td>\n",
       "      <td>1</td>\n",
       "      <td>1</td>\n",
       "      <td>0</td>\n",
       "      <td>0</td>\n",
       "      <td>0</td>\n",
       "      <td>0</td>\n",
       "      <td>0</td>\n",
       "    </tr>\n",
       "    <tr>\n",
       "      <th>1</th>\n",
       "      <td>1</td>\n",
       "      <td>57</td>\n",
       "      <td>0</td>\n",
       "      <td>0</td>\n",
       "      <td>0</td>\n",
       "      <td>0</td>\n",
       "      <td>0</td>\n",
       "      <td>1</td>\n",
       "      <td>0</td>\n",
       "      <td>1</td>\n",
       "    </tr>\n",
       "    <tr>\n",
       "      <th>2</th>\n",
       "      <td>1</td>\n",
       "      <td>0</td>\n",
       "      <td>57</td>\n",
       "      <td>2</td>\n",
       "      <td>0</td>\n",
       "      <td>0</td>\n",
       "      <td>0</td>\n",
       "      <td>0</td>\n",
       "      <td>0</td>\n",
       "      <td>0</td>\n",
       "    </tr>\n",
       "    <tr>\n",
       "      <th>3</th>\n",
       "      <td>0</td>\n",
       "      <td>1</td>\n",
       "      <td>1</td>\n",
       "      <td>57</td>\n",
       "      <td>0</td>\n",
       "      <td>0</td>\n",
       "      <td>0</td>\n",
       "      <td>0</td>\n",
       "      <td>1</td>\n",
       "      <td>0</td>\n",
       "    </tr>\n",
       "    <tr>\n",
       "      <th>4</th>\n",
       "      <td>0</td>\n",
       "      <td>1</td>\n",
       "      <td>0</td>\n",
       "      <td>0</td>\n",
       "      <td>59</td>\n",
       "      <td>0</td>\n",
       "      <td>0</td>\n",
       "      <td>0</td>\n",
       "      <td>0</td>\n",
       "      <td>0</td>\n",
       "    </tr>\n",
       "    <tr>\n",
       "      <th>5</th>\n",
       "      <td>0</td>\n",
       "      <td>0</td>\n",
       "      <td>0</td>\n",
       "      <td>0</td>\n",
       "      <td>0</td>\n",
       "      <td>58</td>\n",
       "      <td>0</td>\n",
       "      <td>1</td>\n",
       "      <td>0</td>\n",
       "      <td>1</td>\n",
       "    </tr>\n",
       "    <tr>\n",
       "      <th>6</th>\n",
       "      <td>0</td>\n",
       "      <td>0</td>\n",
       "      <td>0</td>\n",
       "      <td>1</td>\n",
       "      <td>0</td>\n",
       "      <td>0</td>\n",
       "      <td>58</td>\n",
       "      <td>0</td>\n",
       "      <td>1</td>\n",
       "      <td>0</td>\n",
       "    </tr>\n",
       "    <tr>\n",
       "      <th>7</th>\n",
       "      <td>1</td>\n",
       "      <td>1</td>\n",
       "      <td>0</td>\n",
       "      <td>1</td>\n",
       "      <td>0</td>\n",
       "      <td>1</td>\n",
       "      <td>1</td>\n",
       "      <td>55</td>\n",
       "      <td>0</td>\n",
       "      <td>0</td>\n",
       "    </tr>\n",
       "    <tr>\n",
       "      <th>8</th>\n",
       "      <td>1</td>\n",
       "      <td>0</td>\n",
       "      <td>0</td>\n",
       "      <td>0</td>\n",
       "      <td>0</td>\n",
       "      <td>0</td>\n",
       "      <td>0</td>\n",
       "      <td>0</td>\n",
       "      <td>59</td>\n",
       "      <td>0</td>\n",
       "    </tr>\n",
       "    <tr>\n",
       "      <th>9</th>\n",
       "      <td>1</td>\n",
       "      <td>3</td>\n",
       "      <td>0</td>\n",
       "      <td>1</td>\n",
       "      <td>0</td>\n",
       "      <td>0</td>\n",
       "      <td>0</td>\n",
       "      <td>1</td>\n",
       "      <td>0</td>\n",
       "      <td>54</td>\n",
       "    </tr>\n",
       "  </tbody>\n",
       "</table>\n",
       "</div>"
      ],
      "text/plain": [
       "Predicted digits   0   1   2   3   4   5   6   7   8   9\n",
       "Actual digits                                           \n",
       "0                 57   1   0   1   1   0   0   0   0   0\n",
       "1                  1  57   0   0   0   0   0   1   0   1\n",
       "2                  1   0  57   2   0   0   0   0   0   0\n",
       "3                  0   1   1  57   0   0   0   0   1   0\n",
       "4                  0   1   0   0  59   0   0   0   0   0\n",
       "5                  0   0   0   0   0  58   0   1   0   1\n",
       "6                  0   0   0   1   0   0  58   0   1   0\n",
       "7                  1   1   0   1   0   1   1  55   0   0\n",
       "8                  1   0   0   0   0   0   0   0  59   0\n",
       "9                  1   3   0   1   0   0   0   1   0  54"
      ]
     },
     "execution_count": 17,
     "metadata": {},
     "output_type": "execute_result"
    }
   ],
   "source": [
    "pd.crosstab(TEST_TARGET, a,  rownames=['Actual digits'], colnames=['Predicted digits'])"
   ]
  },
  {
   "cell_type": "code",
   "execution_count": null,
   "id": "smaller-renewal",
   "metadata": {},
   "outputs": [],
   "source": []
  }
 ],
 "metadata": {
  "kernelspec": {
   "display_name": "Python 3",
   "language": "python",
   "name": "python3"
  },
  "language_info": {
   "codemirror_mode": {
    "name": "ipython",
    "version": 3
   },
   "file_extension": ".py",
   "mimetype": "text/x-python",
   "name": "python",
   "nbconvert_exporter": "python",
   "pygments_lexer": "ipython3",
   "version": "3.8.8"
  }
 },
 "nbformat": 4,
 "nbformat_minor": 5
}
